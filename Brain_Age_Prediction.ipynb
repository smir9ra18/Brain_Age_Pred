# Brain Age Prediction — Mini Neuro-AI Project
# Concise demo that simulates MRI-derived features and builds two models to estimate brain age

import numpy as np
import pandas as pd
import matplotlib.pyplot as plt
from sklearn.model_selection import train_test_split
from sklearn.linear_model import LinearRegression
from sklearn.ensemble import RandomForestRegressor
from sklearn.metrics import mean_squared_error, r2_score
import joblib
import os

# Create folders
os.makedirs('data', exist_ok=True)
os.makedirs('results', exist_ok=True)

np.random.seed(42)

# ============================================================================
# 1) Data Simulation
# ============================================================================
print("=" * 60)
print("STEP 1: Data Simulation")
print("=" * 60)

n = 500
ages = np.random.randint(20, 81, size=n)  # ages 20-80

# Simulate intracranial volume (ICV) as a baseline
icv = 1400 + (ages - 50) * 0.3 + np.random.normal(0, 40, size=n)

# Cortical thickness tends to decrease with age
cortical_thickness = 2.7 - (ages - 30) * 0.003 + np.random.normal(0, 0.05, size=n)

# Hippocampal volume declines with age
hippocampal_volume = 4200 - (ages - 30) * 12 + np.random.normal(0, 120, size=n)

# Grey and white matter volumes
grey_matter = 600000 - (ages - 30) * 900 + np.random.normal(0, 5000, size=n)
white_matter = 450000 - (ages - 30) * 400 + np.random.normal(0, 4000, size=n)

# Brainstem volume (small variation)
brainstem = 20000 + np.random.normal(0, 200, size=n)

# Compose DataFrame
df = pd.DataFrame({
    'Age': ages,
    'IntracranialVolume': icv,
    'CorticalThickness': cortical_thickness,
    'HippocampalVolume': hippocampal_volume,
    'GreyMatterVolume': grey_matter,
    'WhiteMatterVolume': white_matter,
    'BrainstemVolume': brainstem
})

# Quick sanity checks
print("\nDataset Statistics:")
print(df.describe().round(2))

# Save synthetic data
df.to_csv('data/synthetic_brain_features.csv', index=False)
print('\n✓ Saved synthetic dataset to data/synthetic_brain_features.csv')

# ============================================================================
# 2) Exploratory Data Analysis
# ============================================================================
print("\n" + "=" * 60)
print("STEP 2: Exploratory Data Analysis")
print("=" * 60)

# Correlation matrix
corr = df.corr()
print("\nCorrelation with Age:")
print(corr['Age'].sort_values(ascending=False).round(3))

# Plot Age vs HippocampalVolume
plt.figure(figsize=(6, 4))
plt.scatter(df['Age'], df['HippocampalVolume'], s=10, alpha=0.6)
plt.xlabel('Age')
plt.ylabel('Hippocampal Volume')
plt.title('Age vs Hippocampal Volume')
plt.grid(True, alpha=0.3)
plt.savefig('results/age_vs_hippocampal_volume.png', bbox_inches='tight', dpi=100)
plt.close()
print("\n✓ Saved plot: results/age_vs_hippocampal_volume.png")

# Plot Age vs Cortical Thickness
plt.figure(figsize=(6, 4))
plt.scatter(df['Age'], df['CorticalThickness'], s=10, alpha=0.6)
plt.xlabel('Age')
plt.ylabel('Cortical Thickness (mm)')
plt.title('Age vs Cortical Thickness')
plt.grid(True, alpha=0.3)
plt.savefig('results/age_vs_cortical_thickness.png', bbox_inches='tight', dpi=100)
plt.close()
print("✓ Saved plot: results/age_vs_cortical_thickness.png")

# ============================================================================
# 3) Modeling
# ============================================================================
print("\n" + "=" * 60)
print("STEP 3: Model Training")
print("=" * 60)

# Prepare data
features = [
    'IntracranialVolume', 'CorticalThickness', 'HippocampalVolume',
    'GreyMatterVolume', 'WhiteMatterVolume', 'BrainstemVolume'
]
X = df[features].copy()
y = df['Age'].copy()

X_train, X_test, y_train, y_test = train_test_split(
    X, y, test_size=0.2, random_state=42
)

print(f"\nTraining set size: {len(X_train)}")
print(f"Test set size: {len(X_test)}")

# Linear Regression
print("\nTraining Linear Regression...")
lr = LinearRegression()
lr.fit(X_train, y_train)
y_pred_lr = lr.predict(X_test)
rmse_lr = np.sqrt(mean_squared_error(y_test, y_pred_lr))
r2_lr = r2_score(y_test, y_pred_lr)

# Random Forest
print("Training Random Forest...")
rf = RandomForestRegressor(n_estimators=100, random_state=42, n_jobs=-1)
rf.fit(X_train, y_train)
y_pred_rf = rf.predict(X_test)
rmse_rf = np.sqrt(mean_squared_error(y_test, y_pred_rf))
r2_rf = r2_score(y_test, y_pred_rf)

print("\n" + "-" * 60)
print("MODEL PERFORMANCE")
print("-" * 60)
print(f'Linear Regression — RMSE: {rmse_lr:.2f} years, R²: {r2_lr:.3f}')
print(f'Random Forest     — RMSE: {rmse_rf:.2f} years, R²: {r2_rf:.3f}')
print("-" * 60)

# Save models
joblib.dump(lr, 'results/linear_regression_model.joblib')
joblib.dump(rf, 'results/random_forest_model.joblib')
print('\n✓ Saved models to results/')

# ============================================================================
# 4) Results & Interpretation
# ============================================================================
print("\n" + "=" * 60)
print("STEP 4: Results Visualization")
print("=" * 60)

# Predicted vs Actual for Random Forest
plt.figure(figsize=(6, 6))
plt.scatter(y_test, y_pred_rf, s=12, alpha=0.6)
plt.plot([y_test.min(), y_test.max()], [y_test.min(), y_test.max()], 
         'r--', lw=2, label='Perfect Prediction')
plt.xlabel('Actual Age (years)')
plt.ylabel('Predicted Age (years)')
plt.title(f'Actual vs Predicted Age (Random Forest)\nRMSE: {rmse_rf:.2f}, R²: {r2_rf:.3f}')
plt.grid(True, alpha=0.3)
plt.legend()
plt.savefig('results/actual_vs_predicted_rf.png', bbox_inches='tight', dpi=100)
plt.close()
print("\n✓ Saved plot: results/actual_vs_predicted_rf.png")

# Feature importance
importances = rf.feature_importances_
indices = np.argsort(importances)[::-1]
feat_names = np.array(features)

plt.figure(figsize=(8, 5))
plt.bar(range(len(importances)), importances[indices], align='center')
plt.xticks(range(len(importances)), feat_names[indices], rotation=45, ha='right')
plt.xlabel('Feature')
plt.ylabel('Importance')
plt.title('Random Forest Feature Importances')
plt.tight_layout()
plt.savefig('results/feature_importances_rf.png', bbox_inches='tight', dpi=100)
plt.close()
print("✓ Saved plot: results/feature_importances_rf.png")

# Print feature importances
print("\nFeature Importances (Random Forest):")
for idx in indices:
    print(f"  {feat_names[idx]:25s}: {importances[idx]:.4f}")

# ============================================================================
# 5) Conclusion
# ============================================================================
print("\n" + "=" * 60)
print("CONCLUSION")
print("=" * 60)
print("""
This mini-project simulates MRI-derived features and demonstrates a concise
workflow for brain age estimation. Results are illustrative and meant to show
methodology rather than clinical validity.

Key Findings:
- Random Forest outperforms Linear Regression (lower RMSE, higher R²)
- Grey matter and hippocampal volumes are strong predictors of age
- The model achieves reasonable accuracy for synthetic data

""")
print("=" * 60)
print("\nAll outputs saved to 'results/' directory")
print("Dataset saved to 'data/' directory")
print("\n✓ Pipeline completed successfully!")